{
  "nbformat": 4,
  "nbformat_minor": 0,
  "metadata": {
    "colab": {
      "provenance": []
    },
    "kernelspec": {
      "name": "python3",
      "display_name": "Python 3"
    },
    "language_info": {
      "name": "python"
    }
  },
  "cells": [
    {
      "cell_type": "markdown",
      "source": [
        "#Describtion: this is \"smart\"  chatbot program\n"
      ],
      "metadata": {
        "id": "h-pX9f5CUXNk"
      }
    },
    {
      "cell_type": "code",
      "source": [
        "pip install newspaper3k"
      ],
      "metadata": {
        "id": "QWZWdekNW8HV"
      },
      "execution_count": null,
      "outputs": []
    },
    {
      "cell_type": "code",
      "source": [
        "#import the libraries\n",
        "from newspaper import Article\n",
        "import random \n",
        "import string\n",
        "import nltk\n",
        "from sklearn.feature_extraction.text import CountVectorizer\n",
        "from sklearn.metrics.pairwise import cosine_similarity\n",
        "import numpy as np \n",
        "import pandas as pd\n",
        "import warnings\n",
        "warnings.filterwarnings('ignore')"
      ],
      "metadata": {
        "id": "hZaVbeAvX7-Q"
      },
      "execution_count": null,
      "outputs": []
    },
    {
      "cell_type": "code",
      "source": [
        " #Download the punkt package \n",
        " nltk.download('punkt', quiet=True)"
      ],
      "metadata": {
        "id": "oiECVVFOf0km"
      },
      "execution_count": null,
      "outputs": []
    },
    {
      "cell_type": "code",
      "source": [
        "#Get the article\n",
        "\n",
        "article= Article('https://www.mayoclinic.org/diseases-conditions/coronavirus/symptoms-causes/syc-20479963')\n",
        "article.download()\n",
        "article.parse()\n",
        "article.nlp() \n",
        "corpus = article.text"
      ],
      "metadata": {
        "id": "JEBdLMTbjIpY"
      },
      "execution_count": null,
      "outputs": []
    },
    {
      "cell_type": "code",
      "source": [
        "#print the article  text \n",
        "print(corpus)\n"
      ],
      "metadata": {
        "id": "AdxtFdVptreK"
      },
      "execution_count": null,
      "outputs": []
    },
    {
      "cell_type": "code",
      "source": [
        "#Tokenization \n",
        "text=corpus\n",
        "#a list of sentence\n",
        "sentence_list=nltk.sent_tokenize(text)\n",
        "print(sentence_list)"
      ],
      "metadata": {
        "id": "e2mNOaaZu2a1"
      },
      "execution_count": null,
      "outputs": []
    },
    {
      "cell_type": "code",
      "source": [
        "# A function to return a random greeting response to user greeting\n",
        "def greeting_response(text):\n",
        "  text=text.lower()\n",
        "  #Bot greeting responbse \n",
        "  bot_greeting=['howdy','hi','hey','hello','hola']\n",
        "  #Users greeting\n",
        "  user_greeting=['hi','hey','hello','hola','greetings']\n",
        "\n",
        "\n",
        "  for word in text.split():\n",
        "   if word in user_greeting:\n",
        "     return random.choice(bot_greeting)"
      ],
      "metadata": {
        "id": "MSyqnXXYvzh1"
      },
      "execution_count": null,
      "outputs": []
    },
    {
      "cell_type": "code",
      "source": [
        "def index_sort(list_var):\n",
        "  length = len(list_var)\n",
        "  list_index=list(range(0, length))\n",
        "\n",
        "  x = list_var\n",
        "  for i in range(length):\n",
        "    for j in range(length):\n",
        "      if x[list_index[i]] > x[list_index[j]]:\n",
        "         #swap\n",
        "         temp = list_index[i]\n",
        "         list_index[i] = list_index[j]\n",
        "         list_index[j]= temp\n",
        "\n",
        "      return list_index"
      ],
      "metadata": {
        "id": "LvOEo30i0vro"
      },
      "execution_count": null,
      "outputs": []
    },
    {
      "cell_type": "code",
      "source": [
        "#Create the bots response\n",
        "\n",
        "def bot_response(user_input):\n",
        " user_input =user_input.lower()\n",
        " sentence_list.append(user_input)\n",
        " bot_response = ''\n",
        " cm = CountVectorizer().fit_transform(sentence_list) \n",
        " similarity_scores =cosine_similarity (cm[-1], cm)\n",
        " similarity_scores_list = similarity_scores.flatten()\n",
        " index = index_sort (similarity_scores_list)\n",
        " index=index[1:]\n",
        " response_flag = 0\n",
        "\n",
        " j = 0\n",
        " for i in range(len(index)):\n",
        "   if similarity_scores_list[index[i]] > 0.0:\n",
        "      bot_response = bot_response+' '+sentence_list[index[i]]\n",
        "      response_flag = 1\n",
        "      j = j+1\n",
        "   if j> 2:\n",
        "      break\n",
        "\n",
        " if response_flag == 0:\n",
        "   bot_response =bot_response+' '+\"I apologize, I don't understant.\"\n",
        "\n",
        " sentence_list.remove(user_input)  \n",
        "\n",
        "\n",
        " return bot_response\n"
      ],
      "metadata": {
        "id": "Dd4h0WWtzB7V"
      },
      "execution_count": null,
      "outputs": []
    },
    {
      "cell_type": "code",
      "source": [
        "#Start the chat\n",
        "print('Doc Bot: I am Doctor Bot or Doc Bot for short. I will answer your queries about coronavirus disease.if you want exit ,type bye')\n",
        "exit_list=['exit','bye','quit','break','see you later']\n",
        "while(True):\n",
        "  user_input = input()\n",
        "  if user_input. lower() in exit_list:\n",
        "    print('Doc Bot: Chat with you later !') \n",
        "    break\n",
        "  else:\n",
        "    if greeting_response(user_input) != None:\n",
        "      print('Doc Bot: '+greeting_response(user_input))\n",
        "    else:\n",
        "      print('Doc Bot: '+bot_response(user_input))"
      ],
      "metadata": {
        "colab": {
          "base_uri": "https://localhost:8080/"
        },
        "id": "PyQ4jtWb99eS",
        "outputId": "b2a7f762-a02a-4ca0-a90c-a49cf3ce2132"
      },
      "execution_count": null,
      "outputs": [
        {
          "output_type": "stream",
          "name": "stdout",
          "text": [
            "Doc Bot: I am Doctor Bot or Doc Bot for short. I will answer your queries about coronavirus disease.if you want exit ,type bye\n"
          ]
        }
      ]
    },
    {
      "cell_type": "code",
      "source": [
        "pip install nltk"
      ],
      "metadata": {
        "id": "N0Y0sfpGUZtL"
      },
      "execution_count": null,
      "outputs": []
    },
    {
      "cell_type": "code",
      "source": [],
      "metadata": {
        "id": "DX1XPb4-JaiA"
      },
      "execution_count": null,
      "outputs": []
    }
  ]
}