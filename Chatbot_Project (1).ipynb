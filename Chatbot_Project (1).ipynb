{
  "nbformat": 4,
  "nbformat_minor": 0,
  "metadata": {
    "colab": {
      "provenance": []
    },
    "kernelspec": {
      "name": "python3",
      "display_name": "Python 3"
    },
    "language_info": {
      "name": "python"
    }
  },
  "cells": [
    {
      "cell_type": "markdown",
      "source": [
        "#Describtion: this is \"smart\"  chatbot program\n"
      ],
      "metadata": {
        "id": "h-pX9f5CUXNk"
      }
    },
    {
      "cell_type": "code",
      "source": [
        "pip install newspaper3k"
      ],
      "metadata": {
        "id": "QWZWdekNW8HV",
        "colab": {
          "base_uri": "https://localhost:8080/"
        },
        "outputId": "d15e325f-3e75-4326-abbd-2d5e820abb13"
      },
      "execution_count": 1,
      "outputs": [
        {
          "output_type": "stream",
          "name": "stdout",
          "text": [
            "Looking in indexes: https://pypi.org/simple, https://us-python.pkg.dev/colab-wheels/public/simple/\n",
            "Collecting newspaper3k\n",
            "  Downloading newspaper3k-0.2.8-py3-none-any.whl (211 kB)\n",
            "\u001b[2K     \u001b[90m━━━━━━━━━━━━━━━━━━━━━━━━━━━━━━━━━━━━━━━\u001b[0m \u001b[32m211.1/211.1 KB\u001b[0m \u001b[31m3.1 MB/s\u001b[0m eta \u001b[36m0:00:00\u001b[0m\n",
            "\u001b[?25hRequirement already satisfied: python-dateutil>=2.5.3 in /usr/local/lib/python3.9/dist-packages (from newspaper3k) (2.8.2)\n",
            "Collecting cssselect>=0.9.2\n",
            "  Downloading cssselect-1.2.0-py2.py3-none-any.whl (18 kB)\n",
            "Requirement already satisfied: lxml>=3.6.0 in /usr/local/lib/python3.9/dist-packages (from newspaper3k) (4.9.2)\n",
            "Collecting feedparser>=5.2.1\n",
            "  Downloading feedparser-6.0.10-py3-none-any.whl (81 kB)\n",
            "\u001b[2K     \u001b[90m━━━━━━━━━━━━━━━━━━━━━━━━━━━━━━━━━━━━━━━━\u001b[0m \u001b[32m81.1/81.1 KB\u001b[0m \u001b[31m2.6 MB/s\u001b[0m eta \u001b[36m0:00:00\u001b[0m\n",
            "\u001b[?25hCollecting jieba3k>=0.35.1\n",
            "  Downloading jieba3k-0.35.1.zip (7.4 MB)\n",
            "\u001b[2K     \u001b[90m━━━━━━━━━━━━━━━━━━━━━━━━━━━━━━━━━━━━━━━━\u001b[0m \u001b[32m7.4/7.4 MB\u001b[0m \u001b[31m55.5 MB/s\u001b[0m eta \u001b[36m0:00:00\u001b[0m\n",
            "\u001b[?25h  Preparing metadata (setup.py) ... \u001b[?25l\u001b[?25hdone\n",
            "Requirement already satisfied: beautifulsoup4>=4.4.1 in /usr/local/lib/python3.9/dist-packages (from newspaper3k) (4.11.2)\n",
            "Requirement already satisfied: nltk>=3.2.1 in /usr/local/lib/python3.9/dist-packages (from newspaper3k) (3.8.1)\n",
            "Collecting tldextract>=2.0.1\n",
            "  Downloading tldextract-3.4.0-py3-none-any.whl (93 kB)\n",
            "\u001b[2K     \u001b[90m━━━━━━━━━━━━━━━━━━━━━━━━━━━━━━━━━━━━━━━━\u001b[0m \u001b[32m93.9/93.9 KB\u001b[0m \u001b[31m6.2 MB/s\u001b[0m eta \u001b[36m0:00:00\u001b[0m\n",
            "\u001b[?25hRequirement already satisfied: Pillow>=3.3.0 in /usr/local/lib/python3.9/dist-packages (from newspaper3k) (8.4.0)\n",
            "Requirement already satisfied: PyYAML>=3.11 in /usr/local/lib/python3.9/dist-packages (from newspaper3k) (6.0)\n",
            "Requirement already satisfied: requests>=2.10.0 in /usr/local/lib/python3.9/dist-packages (from newspaper3k) (2.27.1)\n",
            "Collecting tinysegmenter==0.3\n",
            "  Downloading tinysegmenter-0.3.tar.gz (16 kB)\n",
            "  Preparing metadata (setup.py) ... \u001b[?25l\u001b[?25hdone\n",
            "Collecting feedfinder2>=0.0.4\n",
            "  Downloading feedfinder2-0.0.4.tar.gz (3.3 kB)\n",
            "  Preparing metadata (setup.py) ... \u001b[?25l\u001b[?25hdone\n",
            "Requirement already satisfied: soupsieve>1.2 in /usr/local/lib/python3.9/dist-packages (from beautifulsoup4>=4.4.1->newspaper3k) (2.4)\n",
            "Requirement already satisfied: six in /usr/local/lib/python3.9/dist-packages (from feedfinder2>=0.0.4->newspaper3k) (1.16.0)\n",
            "Collecting sgmllib3k\n",
            "  Downloading sgmllib3k-1.0.0.tar.gz (5.8 kB)\n",
            "  Preparing metadata (setup.py) ... \u001b[?25l\u001b[?25hdone\n",
            "Requirement already satisfied: tqdm in /usr/local/lib/python3.9/dist-packages (from nltk>=3.2.1->newspaper3k) (4.65.0)\n",
            "Requirement already satisfied: joblib in /usr/local/lib/python3.9/dist-packages (from nltk>=3.2.1->newspaper3k) (1.1.1)\n",
            "Requirement already satisfied: regex>=2021.8.3 in /usr/local/lib/python3.9/dist-packages (from nltk>=3.2.1->newspaper3k) (2022.10.31)\n",
            "Requirement already satisfied: click in /usr/local/lib/python3.9/dist-packages (from nltk>=3.2.1->newspaper3k) (8.1.3)\n",
            "Requirement already satisfied: charset-normalizer~=2.0.0 in /usr/local/lib/python3.9/dist-packages (from requests>=2.10.0->newspaper3k) (2.0.12)\n",
            "Requirement already satisfied: urllib3<1.27,>=1.21.1 in /usr/local/lib/python3.9/dist-packages (from requests>=2.10.0->newspaper3k) (1.26.15)\n",
            "Requirement already satisfied: certifi>=2017.4.17 in /usr/local/lib/python3.9/dist-packages (from requests>=2.10.0->newspaper3k) (2022.12.7)\n",
            "Requirement already satisfied: idna<4,>=2.5 in /usr/local/lib/python3.9/dist-packages (from requests>=2.10.0->newspaper3k) (3.4)\n",
            "Requirement already satisfied: filelock>=3.0.8 in /usr/local/lib/python3.9/dist-packages (from tldextract>=2.0.1->newspaper3k) (3.10.7)\n",
            "Collecting requests-file>=1.4\n",
            "  Downloading requests_file-1.5.1-py2.py3-none-any.whl (3.7 kB)\n",
            "Building wheels for collected packages: tinysegmenter, feedfinder2, jieba3k, sgmllib3k\n",
            "  Building wheel for tinysegmenter (setup.py) ... \u001b[?25l\u001b[?25hdone\n",
            "  Created wheel for tinysegmenter: filename=tinysegmenter-0.3-py3-none-any.whl size=13552 sha256=29f54d54f09cce83479e8811edcfdfbf0e908ff7ace1d05f1d76f9414a979f4c\n",
            "  Stored in directory: /root/.cache/pip/wheels/94/ad/df/a2a01300cea47d5695f242f7e925a805970106fd9e4b151468\n",
            "  Building wheel for feedfinder2 (setup.py) ... \u001b[?25l\u001b[?25hdone\n",
            "  Created wheel for feedfinder2: filename=feedfinder2-0.0.4-py3-none-any.whl size=3356 sha256=b0fc4abc16b186a630417132ffd239cac871a3d16b5a98234c740539924f24d7\n",
            "  Stored in directory: /root/.cache/pip/wheels/43/4a/c2/61a371b2524ac90805391c660d8dc4505705297f25e2b85a5d\n",
            "  Building wheel for jieba3k (setup.py) ... \u001b[?25l\u001b[?25hdone\n",
            "  Created wheel for jieba3k: filename=jieba3k-0.35.1-py3-none-any.whl size=7398404 sha256=1b6b25624ceae203504b71c3799b66cc35db57dd1ff9684da1548812f83a7850\n",
            "  Stored in directory: /root/.cache/pip/wheels/c2/22/59/8214a8d6357e9f540ce1f37f9a4362b6156b4ca81b37f1945f\n",
            "  Building wheel for sgmllib3k (setup.py) ... \u001b[?25l\u001b[?25hdone\n",
            "  Created wheel for sgmllib3k: filename=sgmllib3k-1.0.0-py3-none-any.whl size=6065 sha256=0ed209e156fae825028eb1bc45bb6fd4b177ed33934404136f24582ec96b0ef7\n",
            "  Stored in directory: /root/.cache/pip/wheels/65/7a/a7/78c287f64e401255dff4c13fdbc672fed5efbfd21c530114e1\n",
            "Successfully built tinysegmenter feedfinder2 jieba3k sgmllib3k\n",
            "Installing collected packages: tinysegmenter, sgmllib3k, jieba3k, feedparser, cssselect, requests-file, feedfinder2, tldextract, newspaper3k\n",
            "Successfully installed cssselect-1.2.0 feedfinder2-0.0.4 feedparser-6.0.10 jieba3k-0.35.1 newspaper3k-0.2.8 requests-file-1.5.1 sgmllib3k-1.0.0 tinysegmenter-0.3 tldextract-3.4.0\n"
          ]
        }
      ]
    },
    {
      "cell_type": "code",
      "source": [
        "#import the libraries\n",
        "from newspaper import Article\n",
        "import random \n",
        "import string\n",
        "import nltk\n",
        "from sklearn.feature_extraction.text import CountVectorizer\n",
        "from sklearn.metrics.pairwise import cosine_similarity\n",
        "import numpy as np \n",
        "import pandas as pd\n",
        "import warnings\n",
        "warnings.filterwarnings('ignore')"
      ],
      "metadata": {
        "id": "hZaVbeAvX7-Q"
      },
      "execution_count": 2,
      "outputs": []
    },
    {
      "cell_type": "code",
      "source": [
        " #Download the punkt package \n",
        " nltk.download('punkt', quiet=True)"
      ],
      "metadata": {
        "id": "oiECVVFOf0km",
        "colab": {
          "base_uri": "https://localhost:8080/"
        },
        "outputId": "bb00879c-e869-453e-edc8-3c6882c0b79f"
      },
      "execution_count": 3,
      "outputs": [
        {
          "output_type": "execute_result",
          "data": {
            "text/plain": [
              "True"
            ]
          },
          "metadata": {},
          "execution_count": 3
        }
      ]
    },
    {
      "cell_type": "code",
      "source": [
        "#Get the article\n",
        "\n",
        "article= Article('https://www.mayoclinic.org/diseases-conditions/coronavirus/symptoms-causes/syc-20479963')\n",
        "article.download()\n",
        "article.parse()\n",
        "article.nlp() \n",
        "corpus = article.text"
      ],
      "metadata": {
        "id": "JEBdLMTbjIpY"
      },
      "execution_count": 4,
      "outputs": []
    },
    {
      "cell_type": "code",
      "source": [
        "#print the article  text \n",
        "print(corpus)\n"
      ],
      "metadata": {
        "id": "AdxtFdVptreK",
        "colab": {
          "base_uri": "https://localhost:8080/"
        },
        "outputId": "0429355c-729d-4315-fdde-a4bc8cea8529"
      },
      "execution_count": 5,
      "outputs": [
        {
          "output_type": "stream",
          "name": "stdout",
          "text": [
            "Overview\n",
            "\n",
            "Coronavirus Enlarge image Close Coronavirus Coronavirus Coronavirus is a family of viruses that can cause respiratory illnesses such as the common cold, severe acute respiratory syndrome (SARS) and Middle East respiratory syndrome (MERS).\n",
            "\n",
            "Coronaviruses are a family of viruses that can cause illnesses such as the common cold, severe acute respiratory syndrome (SARS) and Middle East respiratory syndrome (MERS). In 2019, a new coronavirus was identified as the cause of a disease outbreak that originated in China.\n",
            "\n",
            "The virus is known as severe acute respiratory syndrome coronavirus 2 (SARS-CoV-2). The disease it causes is called coronavirus disease 2019 (COVID-19). In March 2020, the World Health Organization (WHO) declared the COVID-19 outbreak a pandemic.\n",
            "\n",
            "Public health groups, including the U.S. Centers for Disease Control and Prevention (CDC) and WHO , are monitoring the COVID-19 pandemic and posting updates on their websites. These groups have also issued recommendations for preventing and treating the virus that causes COVID-19 .\n",
            "\n",
            "Products & Services Begin Exploring Women's Health Solutions at Mayo Clinic Store\n",
            "\n",
            "Symptoms\n",
            "\n",
            "Signs and symptoms of coronavirus disease 2019 (COVID-19) may appear 2 to 14 days after exposure. This time after exposure and before having symptoms is called the incubation period. You can still spread COVID-19 before you have symptoms (presymptomatic transmission). Common signs and symptoms can include:\n",
            "\n",
            "Fever\n",
            "\n",
            "Cough\n",
            "\n",
            "Tiredness\n",
            "\n",
            "Early symptoms of COVID-19 may include a loss of taste or smell.\n",
            "\n",
            "Other symptoms can include:\n",
            "\n",
            "Shortness of breath or difficulty breathing\n",
            "\n",
            "Muscle aches\n",
            "\n",
            "Chills\n",
            "\n",
            "Sore throat\n",
            "\n",
            "Runny nose\n",
            "\n",
            "Headache\n",
            "\n",
            "Chest pain\n",
            "\n",
            "Pink eye (conjunctivitis)\n",
            "\n",
            "Nausea\n",
            "\n",
            "Vomiting\n",
            "\n",
            "Diarrhea\n",
            "\n",
            "Rash\n",
            "\n",
            "This list isn't complete. Children have similar symptoms to adults and generally have mild illness.\n",
            "\n",
            "The severity of COVID-19 symptoms can range from very mild to severe. Some people may have only a few symptoms. Some people may have no symptoms at all, but can still spread it (asymptomatic transmission). Some people may experience worsened symptoms, such as worsened shortness of breath and pneumonia, about a week after symptoms start.\n",
            "\n",
            "Some people experience COVID-19 symptoms for more than four weeks after they're diagnosed. These health issues are sometimes called post- COVID-19 conditions. Some children experience multisystem inflammatory syndrome, a syndrome that can affect some organs and tissues, several weeks after having COVID-19 . Rarely, some adults experience the syndrome too.\n",
            "\n",
            "People who are older have a higher risk of serious illness from COVID-19 , and the risk increases with age. People who have existing medical conditions also may have a higher risk of serious illness. Certain medical conditions that may increase the risk of serious illness from COVID-19 include:\n",
            "\n",
            "Serious heart diseases, such as heart failure, coronary artery disease or cardiomyopathy\n",
            "\n",
            "Cancer\n",
            "\n",
            "Chronic obstructive pulmonary disease (COPD)\n",
            "\n",
            "Type 1 or type 2 diabetes\n",
            "\n",
            "Overweight, obesity or severe obesity\n",
            "\n",
            "High blood pressure\n",
            "\n",
            "Smoking\n",
            "\n",
            "Chronic kidney disease\n",
            "\n",
            "Sickle cell disease or thalassemia\n",
            "\n",
            "Weakened immune system from solid organ transplants or bone marrow transplants\n",
            "\n",
            "Pregnancy\n",
            "\n",
            "Asthma\n",
            "\n",
            "Chronic lung diseases such as cystic fibrosis or pulmonary hypertension\n",
            "\n",
            "Liver disease\n",
            "\n",
            "Dementia\n",
            "\n",
            "Down syndrome\n",
            "\n",
            "Weakened immune system from bone marrow transplant, HIV or some medications\n",
            "\n",
            "Brain and nervous system conditions, such as strokes\n",
            "\n",
            "Substance use disorders\n",
            "\n",
            "This list is not complete. Other medical conditions may increase your risk of serious illness from COVID-19 .\n",
            "\n",
            "When to see a doctor\n",
            "\n",
            "If you have COVID-19 signs or symptoms or you've been in contact with someone diagnosed with COVID-19 , contact your health care provider right away for medical advice. Your health care provider will likely recommend that you get tested for COVID-19 . If you have emergency COVID-19 symptoms, such as trouble breathing, seek care immediately. If you need to go to a hospital, call ahead so that health care providers can take steps to ensure that others aren't exposed.\n",
            "\n",
            "If you have emergency COVID-19 signs and symptoms, seek care immediately. Emergency signs and symptoms can include:\n",
            "\n",
            "Trouble breathing\n",
            "\n",
            "Persistent chest pain or pressure\n",
            "\n",
            "Inability to stay awake\n",
            "\n",
            "New confusion\n",
            "\n",
            "Pale, gray or blue-colored skin, lips or nail beds — depending on skin tone\n",
            "\n",
            "This list isn't complete. Let your health care provider know if you are an older adult or have chronic medical conditions, such as heart disease or lung disease, as you may have a greater risk of becoming seriously ill with COVID-19 .\n",
            "\n",
            "There is a problem with information submitted for this request. Review/update the information highlighted below and resubmit the form. From Mayo Clinic to your inbox Sign up for free, and stay up to date on research advancements, health tips and current health topics, like COVID-19, plus expertise on managing health. Click here for an email preview. Email ErrorEmail field is required ErrorInclude a valid email address Learn more about Mayo Clinic’s use of data. To provide you with the most relevant and helpful information, and understand which information is beneficial, we may combine your email and website usage information with other information we have about you. If you are a Mayo Clinic patient, this could include protected health information. If we combine this information with your protected health information, we will treat all of that information as protected health information and will only use or disclose that information as set forth in our notice of privacy practices. You may opt-out of email communications at any time by clicking on the unsubscribe link in the e-mail. Subscribe! Thank you for subscribing! You'll soon start receiving the latest Mayo Clinic health information you requested in your inbox. Sorry something went wrong with your subscription Please, try again in a couple of minutes Retry\n",
            "\n",
            "Causes\n",
            "\n",
            "Infection with severe acute respiratory syndrome coronavirus 2, or SARS-CoV-2, causes coronavirus disease 2019 ( COVID-19 ).\n",
            "\n",
            "The virus that causes COVID-19 spreads easily among people. Data has shown that the COVID-19 virus spreads mainly from person to person among those in close contact. The virus spreads by respiratory droplets released when someone with the virus coughs, sneezes, breathes, sings or talks. These droplets can be inhaled or land in the mouth, nose or eyes of a person nearby.\n",
            "\n",
            "Sometimes the COVID-19 virus can spread when a person is exposed to very small droplets or aerosols that stay in the air for several minutes or hours — called airborne transmission.\n",
            "\n",
            "The virus can also spread if you touch a surface with the virus on it and then touch your mouth, nose or eyes. But the risk is low.\n",
            "\n",
            "The COVID-19 virus can spread from someone who is infected but has no symptoms. This is called asymptomatic transmission. The COVID-19 virus can also spread from someone who is infected but hasn't developed symptoms yet. This is called presymptomatic transmission.\n",
            "\n",
            "It's possible to get COVID-19 more than once.\n",
            "\n",
            "When a virus has one or more new mutations it’s called a variant of the original virus. The omicron (B.1.1.529) variant spreads more easily than the original virus that causes COVID-19 and the delta variant. However, omicron appears to cause less severe disease. People who are fully vaccinated can get breakthrough infections and spread the virus to others. But the COVID-19 vaccines are effective at preventing severe illness. This variant also reduces the effectiveness of some monoclonal antibody treatments. Omicron has a few major offshoots (sublineages), including BA.5 and BA.2.12.1. BA.5 made up about 88% of COVID-19 infections that had genetic sequencing in the U.S. in August, 2022, according to the CDC .\n",
            "\n",
            "In April, the CDC downgraded the delta variant from a variant of concern to a variant being monitored. This means that the delta variant isn’t currently considered a major public health threat in the U.S.\n",
            "\n",
            "Risk factors\n",
            "\n",
            "Risk factors for COVID-19 appear to include:\n",
            "\n",
            "Close contact with someone who has COVID-19 , especially someone with symptoms\n",
            "\n",
            ", especially someone with symptoms Being coughed or sneezed on by an infected person\n",
            "\n",
            "Being near an infected person when in an indoor space with poor air flow\n",
            "\n",
            "Complications\n",
            "\n",
            "Although most people with COVID-19 have mild to moderate symptoms, the disease can cause severe medical complications and lead to death in some people. Older adults or people with existing medical conditions are at greater risk of becoming seriously ill with COVID-19 .\n",
            "\n",
            "Complications can include:\n",
            "\n",
            "Pneumonia and trouble breathing\n",
            "\n",
            "Organ failure in several organs\n",
            "\n",
            "Heart problems\n",
            "\n",
            "A severe lung condition that causes a low amount of oxygen to go through your bloodstream to your organs (acute respiratory distress syndrome)\n",
            "\n",
            "Blood clots\n",
            "\n",
            "Acute kidney injury\n",
            "\n",
            "Additional viral and bacterial infections\n",
            "\n",
            "Prevention\n",
            "\n",
            "The U.S. Food and Drug Administration (FDA) has given emergency use authorization to some COVID-19 vaccines in the United States. The FDA has approved the Pfizer-BioNTech COVID-19 vaccine, now called Comirnaty, to prevent COVID-19 in people age 12 and older. The FDA has given emergency use authorization to Pfizer-BioNTech COVID-19 vaccines for ages 6 months through 11 years.\n",
            "\n",
            "The FDA has approved the Moderna vaccine, now called Spikevax, to prevent COVID-19 in people age 18 and older. The FDA has also authorized the Moderna COVID-19 vaccine in children ages 6 months through 17 years old. The FDA has also authorized the Novavax COVID-19 , adjuvanted vaccine to prevent COVID-19 in people age 12 and older.\n",
            "\n",
            "Due to the risk of a potentially life-threatening blood-clotting problem, the FDA is restricting use of the Janssen/Johnson & Johnson vaccine to certain people age 18 and older. Examples include people who had a severe allergic reaction after getting an mRNA COVID-19 vaccine and people who can't get an mRNA COVID-19 vaccine due to limited access or personal or religious concerns. If you get this vaccine, be sure to understand the risks and symptoms of the blood-clotting problem.\n",
            "\n",
            "A vaccine can prevent you from getting the COVID-19 virus or prevent you from becoming seriously ill if you get the COVID-19 virus. In addition, COVID-19 vaccination might offer better protection than getting sick with COVID-19 . A recent study showed that unvaccinated people who already had COVID-19 are more than twice as likely as fully vaccinated people to get reinfected with COVID-19 .\n",
            "\n",
            "After getting vaccinated, you can more safely return to many activities you may not have been able to do because of the pandemic. However, if you are in an area with a high number of people with COVID-19 in the hospital and new COVID-19 cases, the CDC recommends wearing a mask indoors in public. You're considered fully vaccinated two weeks after you get a second dose of an mRNA COVID-19 vaccine, after two doses of the Novavax vaccine, or two weeks after you get a single dose of the Janssen/Johnson & Johnson COVID-19 vaccine. You are considered up to date with your vaccines if you have gotten all recommended COVID-19 vaccines, including booster doses, when you become eligible.\n",
            "\n",
            "An additional primary dose of a COVID-19 vaccine is recommended for people who are vaccinated and might not have had a strong enough immune response.\n",
            "\n",
            "In contrast, a booster dose is recommended for people who are vaccinated and whose immune response weakened over time. Research suggests that getting a booster dose can decrease your risk of infection and severe illness with COVID-19 .\n",
            "\n",
            "People who have a moderately or severely weakened immune system should get an additional primary shot and a booster shot.\n",
            "\n",
            "The CDC recommends additional doses and booster doses of COVID-19 vaccines in specific instances:\n",
            "\n",
            "Additional primary shot. The CDC recommends an additional primary shot of an mRNA COVID-19 vaccine for some people with weakened immune systems, such as those who have had an organ transplant. People with weakened immune systems might not develop enough immunity after vaccination with two doses of an mRNA COVID-19 vaccine or one dose of the Janssen/Johnson & Johnson COVID-19 vaccine. An additional shot using an mRNA COVID-19 vaccine might improve their protection against COVID-19 . This recommendation for an additional mRNA COVID-19 shot is for people ages 6 months and older. The additional primary shot should be given at least four weeks after a second dose of an mRNA COVID-19 vaccine or one dose of the Janssen/Johnson & Johnson COVID-19 vaccine. The additional primary shot should be the same brand as the other two mRNA COVID-19 vaccine doses that were given. If the brand given isn't known, either brand of mRNA COVID-19 vaccine can be given as a third dose.\n",
            "\n",
            "Booster dose. These recommendations differ by age, what vaccines you have been given and the state of your immune system. But in general, people can get the booster shot at least two months after their last shot. People who recently had a positive COVID-19 test may think about waiting three months after their symptoms started to get the booster. Kids ages 6 months through 5 years who got the Moderna COVID-19 vaccine can get an updated, called bivalent, Moderna COVID-19 vaccine booster. The booster is based on the original virus strain and two omicron strains. Kids age 5 who got the Pfizer-BioNTech COVID-19 vaccine can only get the updated Pfizer-BioNTech COVID-19 bivalent vaccine booster. People age 6 and older can choose between the updated Pfizer-BioNTech and the updated Moderna COVID-19 bivalent vaccine boosters. If you are age 18 or older, and got the Janssen COVID-19 vaccine, you can get either of the mRNA vaccine bivalent boosters at least two months after your shot. People 18 and older may also get a Novavax booster based on the original virus strain as a first booster at least six months after their last shot. Pregnant people can also get a COVID-19 booster dose. People age 5 and older who have a weakened immune system and have had all recommended doses of the Moderna, Pfizer-BioNTech or Novavax COVID-19 vaccines can get a booster dose of the updated Pfizer-BioNTech or Moderna COVID-19 bivalent vaccines.\n",
            "\n",
            "The FDA has also authorized the monoclonal antibodies tixagevimab and cilgavimab (Evusheld) to prevent COVID-19 in some people with weakened immune systems or a history of severe reactions to a COVID-19 vaccine. But Evusheld may provide less or no protection against certain omicron strains of the virus.\n",
            "\n",
            "There are many steps you can take to reduce your risk of infection from the COVID-19 virus and reduce the risk of spreading it to others. WHO and CDC recommend following these precautions:\n",
            "\n",
            "Get vaccinated. COVID-19 vaccines reduce the risk of getting and spreading COVID-19 .\n",
            "\n",
            "vaccines reduce the risk of getting and spreading . Avoid close contact with anyone who is sick or has symptoms.\n",
            "\n",
            "Keep distance between yourself and others when you're in indoor public spaces. This is especially important if you have a higher risk of serious illness. Keep in mind some people may have COVID-19 and spread it to others, even if they don't have symptoms or don't know they have COVID-19 .\n",
            "\n",
            "and spread it to others, even if they don't have symptoms or don't know they have . Avoid crowds and indoor places that have poor air flow (ventilation).\n",
            "\n",
            "Wash your hands often with soap and water for at least 20 seconds, or use an alcohol-based hand sanitizer that contains at least 60% alcohol.\n",
            "\n",
            "Wear a face mask in indoor public spaces if you're in an area with a high number of people with COVID-19 in the hospital and new COVID-19 cases, whether or not you're vaccinated. The CDC recommends wearing the most protective mask possible that you'll wear regularly, fits well and is comfortable.\n",
            "\n",
            "in the hospital and new cases, whether or not you're vaccinated. The recommends wearing the most protective mask possible that you'll wear regularly, fits well and is comfortable. Improve the air flow indoors. Open windows. Turn on fans to direct air out of windows. If you can't open windows, consider using air filters. And turn on exhaust fans in your bathroom and kitchen. You might also consider a portable air cleaner.\n",
            "\n",
            "Cover your mouth and nose with your elbow or a tissue when you cough or sneeze. Throw away the used tissue. Wash your hands right away.\n",
            "\n",
            "Avoid touching your eyes, nose and mouth.\n",
            "\n",
            "Avoid sharing dishes, glasses, towels, bedding and other household items if you're sick.\n",
            "\n",
            "Clean and disinfect high-touch surfaces, such as doorknobs, light switches, electronics and counters, regularly.\n",
            "\n",
            "Stay home from work, school and public areas and stay home in isolation if you're sick, unless you're going to get medical care. Avoid public transportation, taxis and ride-hailing services if you're sick.\n",
            "\n",
            "If you have a chronic medical condition and may have a higher risk of serious illness, check with your doctor about other ways to protect yourself.\n",
            "\n",
            "Travel\n"
          ]
        }
      ]
    },
    {
      "cell_type": "code",
      "source": [
        "#Tokenization \n",
        "text=corpus\n",
        "#a list of sentence\n",
        "sentence_list=nltk.sent_tokenize(text)\n",
        "print(sentence_list)"
      ],
      "metadata": {
        "id": "e2mNOaaZu2a1",
        "colab": {
          "base_uri": "https://localhost:8080/"
        },
        "outputId": "bb2acc45-43af-4052-8170-87c53cd811c8"
      },
      "execution_count": 6,
      "outputs": [
        {
          "output_type": "stream",
          "name": "stdout",
          "text": [
            "['Overview\\n\\nCoronavirus Enlarge image Close Coronavirus Coronavirus Coronavirus is a family of viruses that can cause respiratory illnesses such as the common cold, severe acute respiratory syndrome (SARS) and Middle East respiratory syndrome (MERS).', 'Coronaviruses are a family of viruses that can cause illnesses such as the common cold, severe acute respiratory syndrome (SARS) and Middle East respiratory syndrome (MERS).', 'In 2019, a new coronavirus was identified as the cause of a disease outbreak that originated in China.', 'The virus is known as severe acute respiratory syndrome coronavirus 2 (SARS-CoV-2).', 'The disease it causes is called coronavirus disease 2019 (COVID-19).', 'In March 2020, the World Health Organization (WHO) declared the COVID-19 outbreak a pandemic.', 'Public health groups, including the U.S. Centers for Disease Control and Prevention (CDC) and WHO , are monitoring the COVID-19 pandemic and posting updates on their websites.', 'These groups have also issued recommendations for preventing and treating the virus that causes COVID-19 .', \"Products & Services Begin Exploring Women's Health Solutions at Mayo Clinic Store\\n\\nSymptoms\\n\\nSigns and symptoms of coronavirus disease 2019 (COVID-19) may appear 2 to 14 days after exposure.\", 'This time after exposure and before having symptoms is called the incubation period.', 'You can still spread COVID-19 before you have symptoms (presymptomatic transmission).', 'Common signs and symptoms can include:\\n\\nFever\\n\\nCough\\n\\nTiredness\\n\\nEarly symptoms of COVID-19 may include a loss of taste or smell.', \"Other symptoms can include:\\n\\nShortness of breath or difficulty breathing\\n\\nMuscle aches\\n\\nChills\\n\\nSore throat\\n\\nRunny nose\\n\\nHeadache\\n\\nChest pain\\n\\nPink eye (conjunctivitis)\\n\\nNausea\\n\\nVomiting\\n\\nDiarrhea\\n\\nRash\\n\\nThis list isn't complete.\", 'Children have similar symptoms to adults and generally have mild illness.', 'The severity of COVID-19 symptoms can range from very mild to severe.', 'Some people may have only a few symptoms.', 'Some people may have no symptoms at all, but can still spread it (asymptomatic transmission).', 'Some people may experience worsened symptoms, such as worsened shortness of breath and pneumonia, about a week after symptoms start.', \"Some people experience COVID-19 symptoms for more than four weeks after they're diagnosed.\", 'These health issues are sometimes called post- COVID-19 conditions.', 'Some children experience multisystem inflammatory syndrome, a syndrome that can affect some organs and tissues, several weeks after having COVID-19 .', 'Rarely, some adults experience the syndrome too.', 'People who are older have a higher risk of serious illness from COVID-19 , and the risk increases with age.', 'People who have existing medical conditions also may have a higher risk of serious illness.', 'Certain medical conditions that may increase the risk of serious illness from COVID-19 include:\\n\\nSerious heart diseases, such as heart failure, coronary artery disease or cardiomyopathy\\n\\nCancer\\n\\nChronic obstructive pulmonary disease (COPD)\\n\\nType 1 or type 2 diabetes\\n\\nOverweight, obesity or severe obesity\\n\\nHigh blood pressure\\n\\nSmoking\\n\\nChronic kidney disease\\n\\nSickle cell disease or thalassemia\\n\\nWeakened immune system from solid organ transplants or bone marrow transplants\\n\\nPregnancy\\n\\nAsthma\\n\\nChronic lung diseases such as cystic fibrosis or pulmonary hypertension\\n\\nLiver disease\\n\\nDementia\\n\\nDown syndrome\\n\\nWeakened immune system from bone marrow transplant, HIV or some medications\\n\\nBrain and nervous system conditions, such as strokes\\n\\nSubstance use disorders\\n\\nThis list is not complete.', 'Other medical conditions may increase your risk of serious illness from COVID-19 .', \"When to see a doctor\\n\\nIf you have COVID-19 signs or symptoms or you've been in contact with someone diagnosed with COVID-19 , contact your health care provider right away for medical advice.\", 'Your health care provider will likely recommend that you get tested for COVID-19 .', 'If you have emergency COVID-19 symptoms, such as trouble breathing, seek care immediately.', \"If you need to go to a hospital, call ahead so that health care providers can take steps to ensure that others aren't exposed.\", 'If you have emergency COVID-19 signs and symptoms, seek care immediately.', \"Emergency signs and symptoms can include:\\n\\nTrouble breathing\\n\\nPersistent chest pain or pressure\\n\\nInability to stay awake\\n\\nNew confusion\\n\\nPale, gray or blue-colored skin, lips or nail beds — depending on skin tone\\n\\nThis list isn't complete.\", 'Let your health care provider know if you are an older adult or have chronic medical conditions, such as heart disease or lung disease, as you may have a greater risk of becoming seriously ill with COVID-19 .', 'There is a problem with information submitted for this request.', 'Review/update the information highlighted below and resubmit the form.', 'From Mayo Clinic to your inbox Sign up for free, and stay up to date on research advancements, health tips and current health topics, like COVID-19, plus expertise on managing health.', 'Click here for an email preview.', 'Email ErrorEmail field is required ErrorInclude a valid email address Learn more about Mayo Clinic’s use of data.', 'To provide you with the most relevant and helpful information, and understand which information is beneficial, we may combine your email and website usage information with other information we have about you.', 'If you are a Mayo Clinic patient, this could include protected health information.', 'If we combine this information with your protected health information, we will treat all of that information as protected health information and will only use or disclose that information as set forth in our notice of privacy practices.', 'You may opt-out of email communications at any time by clicking on the unsubscribe link in the e-mail.', 'Subscribe!', 'Thank you for subscribing!', \"You'll soon start receiving the latest Mayo Clinic health information you requested in your inbox.\", 'Sorry something went wrong with your subscription Please, try again in a couple of minutes Retry\\n\\nCauses\\n\\nInfection with severe acute respiratory syndrome coronavirus 2, or SARS-CoV-2, causes coronavirus disease 2019 ( COVID-19 ).', 'The virus that causes COVID-19 spreads easily among people.', 'Data has shown that the COVID-19 virus spreads mainly from person to person among those in close contact.', 'The virus spreads by respiratory droplets released when someone with the virus coughs, sneezes, breathes, sings or talks.', 'These droplets can be inhaled or land in the mouth, nose or eyes of a person nearby.', 'Sometimes the COVID-19 virus can spread when a person is exposed to very small droplets or aerosols that stay in the air for several minutes or hours — called airborne transmission.', 'The virus can also spread if you touch a surface with the virus on it and then touch your mouth, nose or eyes.', 'But the risk is low.', 'The COVID-19 virus can spread from someone who is infected but has no symptoms.', 'This is called asymptomatic transmission.', \"The COVID-19 virus can also spread from someone who is infected but hasn't developed symptoms yet.\", 'This is called presymptomatic transmission.', \"It's possible to get COVID-19 more than once.\", 'When a virus has one or more new mutations it’s called a variant of the original virus.', 'The omicron (B.1.1.529) variant spreads more easily than the original virus that causes COVID-19 and the delta variant.', 'However, omicron appears to cause less severe disease.', 'People who are fully vaccinated can get breakthrough infections and spread the virus to others.', 'But the COVID-19 vaccines are effective at preventing severe illness.', 'This variant also reduces the effectiveness of some monoclonal antibody treatments.', 'Omicron has a few major offshoots (sublineages), including BA.5 and BA.2.12.1.', 'BA.5 made up about 88% of COVID-19 infections that had genetic sequencing in the U.S. in August, 2022, according to the CDC .', 'In April, the CDC downgraded the delta variant from a variant of concern to a variant being monitored.', 'This means that the delta variant isn’t currently considered a major public health threat in the U.S.\\n\\nRisk factors\\n\\nRisk factors for COVID-19 appear to include:\\n\\nClose contact with someone who has COVID-19 , especially someone with symptoms\\n\\n, especially someone with symptoms Being coughed or sneezed on by an infected person\\n\\nBeing near an infected person when in an indoor space with poor air flow\\n\\nComplications\\n\\nAlthough most people with COVID-19 have mild to moderate symptoms, the disease can cause severe medical complications and lead to death in some people.', 'Older adults or people with existing medical conditions are at greater risk of becoming seriously ill with COVID-19 .', 'Complications can include:\\n\\nPneumonia and trouble breathing\\n\\nOrgan failure in several organs\\n\\nHeart problems\\n\\nA severe lung condition that causes a low amount of oxygen to go through your bloodstream to your organs (acute respiratory distress syndrome)\\n\\nBlood clots\\n\\nAcute kidney injury\\n\\nAdditional viral and bacterial infections\\n\\nPrevention\\n\\nThe U.S. Food and Drug Administration (FDA) has given emergency use authorization to some COVID-19 vaccines in the United States.', 'The FDA has approved the Pfizer-BioNTech COVID-19 vaccine, now called Comirnaty, to prevent COVID-19 in people age 12 and older.', 'The FDA has given emergency use authorization to Pfizer-BioNTech COVID-19 vaccines for ages 6 months through 11 years.', 'The FDA has approved the Moderna vaccine, now called Spikevax, to prevent COVID-19 in people age 18 and older.', 'The FDA has also authorized the Moderna COVID-19 vaccine in children ages 6 months through 17 years old.', 'The FDA has also authorized the Novavax COVID-19 , adjuvanted vaccine to prevent COVID-19 in people age 12 and older.', 'Due to the risk of a potentially life-threatening blood-clotting problem, the FDA is restricting use of the Janssen/Johnson & Johnson vaccine to certain people age 18 and older.', \"Examples include people who had a severe allergic reaction after getting an mRNA COVID-19 vaccine and people who can't get an mRNA COVID-19 vaccine due to limited access or personal or religious concerns.\", 'If you get this vaccine, be sure to understand the risks and symptoms of the blood-clotting problem.', 'A vaccine can prevent you from getting the COVID-19 virus or prevent you from becoming seriously ill if you get the COVID-19 virus.', 'In addition, COVID-19 vaccination might offer better protection than getting sick with COVID-19 .', 'A recent study showed that unvaccinated people who already had COVID-19 are more than twice as likely as fully vaccinated people to get reinfected with COVID-19 .', 'After getting vaccinated, you can more safely return to many activities you may not have been able to do because of the pandemic.', 'However, if you are in an area with a high number of people with COVID-19 in the hospital and new COVID-19 cases, the CDC recommends wearing a mask indoors in public.', \"You're considered fully vaccinated two weeks after you get a second dose of an mRNA COVID-19 vaccine, after two doses of the Novavax vaccine, or two weeks after you get a single dose of the Janssen/Johnson & Johnson COVID-19 vaccine.\", 'You are considered up to date with your vaccines if you have gotten all recommended COVID-19 vaccines, including booster doses, when you become eligible.', 'An additional primary dose of a COVID-19 vaccine is recommended for people who are vaccinated and might not have had a strong enough immune response.', 'In contrast, a booster dose is recommended for people who are vaccinated and whose immune response weakened over time.', 'Research suggests that getting a booster dose can decrease your risk of infection and severe illness with COVID-19 .', 'People who have a moderately or severely weakened immune system should get an additional primary shot and a booster shot.', 'The CDC recommends additional doses and booster doses of COVID-19 vaccines in specific instances:\\n\\nAdditional primary shot.', 'The CDC recommends an additional primary shot of an mRNA COVID-19 vaccine for some people with weakened immune systems, such as those who have had an organ transplant.', 'People with weakened immune systems might not develop enough immunity after vaccination with two doses of an mRNA COVID-19 vaccine or one dose of the Janssen/Johnson & Johnson COVID-19 vaccine.', 'An additional shot using an mRNA COVID-19 vaccine might improve their protection against COVID-19 .', 'This recommendation for an additional mRNA COVID-19 shot is for people ages 6 months and older.', 'The additional primary shot should be given at least four weeks after a second dose of an mRNA COVID-19 vaccine or one dose of the Janssen/Johnson & Johnson COVID-19 vaccine.', 'The additional primary shot should be the same brand as the other two mRNA COVID-19 vaccine doses that were given.', \"If the brand given isn't known, either brand of mRNA COVID-19 vaccine can be given as a third dose.\", 'Booster dose.', 'These recommendations differ by age, what vaccines you have been given and the state of your immune system.', 'But in general, people can get the booster shot at least two months after their last shot.', 'People who recently had a positive COVID-19 test may think about waiting three months after their symptoms started to get the booster.', 'Kids ages 6 months through 5 years who got the Moderna COVID-19 vaccine can get an updated, called bivalent, Moderna COVID-19 vaccine booster.', 'The booster is based on the original virus strain and two omicron strains.', 'Kids age 5 who got the Pfizer-BioNTech COVID-19 vaccine can only get the updated Pfizer-BioNTech COVID-19 bivalent vaccine booster.', 'People age 6 and older can choose between the updated Pfizer-BioNTech and the updated Moderna COVID-19 bivalent vaccine boosters.', 'If you are age 18 or older, and got the Janssen COVID-19 vaccine, you can get either of the mRNA vaccine bivalent boosters at least two months after your shot.', 'People 18 and older may also get a Novavax booster based on the original virus strain as a first booster at least six months after their last shot.', 'Pregnant people can also get a COVID-19 booster dose.', 'People age 5 and older who have a weakened immune system and have had all recommended doses of the Moderna, Pfizer-BioNTech or Novavax COVID-19 vaccines can get a booster dose of the updated Pfizer-BioNTech or Moderna COVID-19 bivalent vaccines.', 'The FDA has also authorized the monoclonal antibodies tixagevimab and cilgavimab (Evusheld) to prevent COVID-19 in some people with weakened immune systems or a history of severe reactions to a COVID-19 vaccine.', 'But Evusheld may provide less or no protection against certain omicron strains of the virus.', 'There are many steps you can take to reduce your risk of infection from the COVID-19 virus and reduce the risk of spreading it to others.', 'WHO and CDC recommend following these precautions:\\n\\nGet vaccinated.', 'COVID-19 vaccines reduce the risk of getting and spreading COVID-19 .', 'vaccines reduce the risk of getting and spreading .', 'Avoid close contact with anyone who is sick or has symptoms.', \"Keep distance between yourself and others when you're in indoor public spaces.\", 'This is especially important if you have a higher risk of serious illness.', \"Keep in mind some people may have COVID-19 and spread it to others, even if they don't have symptoms or don't know they have COVID-19 .\", \"and spread it to others, even if they don't have symptoms or don't know they have .\", 'Avoid crowds and indoor places that have poor air flow (ventilation).', 'Wash your hands often with soap and water for at least 20 seconds, or use an alcohol-based hand sanitizer that contains at least 60% alcohol.', \"Wear a face mask in indoor public spaces if you're in an area with a high number of people with COVID-19 in the hospital and new COVID-19 cases, whether or not you're vaccinated.\", \"The CDC recommends wearing the most protective mask possible that you'll wear regularly, fits well and is comfortable.\", \"in the hospital and new cases, whether or not you're vaccinated.\", \"The recommends wearing the most protective mask possible that you'll wear regularly, fits well and is comfortable.\", 'Improve the air flow indoors.', 'Open windows.', 'Turn on fans to direct air out of windows.', \"If you can't open windows, consider using air filters.\", 'And turn on exhaust fans in your bathroom and kitchen.', 'You might also consider a portable air cleaner.', 'Cover your mouth and nose with your elbow or a tissue when you cough or sneeze.', 'Throw away the used tissue.', 'Wash your hands right away.', 'Avoid touching your eyes, nose and mouth.', \"Avoid sharing dishes, glasses, towels, bedding and other household items if you're sick.\", 'Clean and disinfect high-touch surfaces, such as doorknobs, light switches, electronics and counters, regularly.', \"Stay home from work, school and public areas and stay home in isolation if you're sick, unless you're going to get medical care.\", \"Avoid public transportation, taxis and ride-hailing services if you're sick.\", 'If you have a chronic medical condition and may have a higher risk of serious illness, check with your doctor about other ways to protect yourself.', 'Travel']\n"
          ]
        }
      ]
    },
    {
      "cell_type": "code",
      "source": [
        "# A function to return a random greeting response to user greeting\n",
        "def greeting_response(text):\n",
        "  text=text.lower()\n",
        "  #Bot greeting responbse \n",
        "  bot_greeting=['howdy','hi','hey','hello','hola']\n",
        "  #Users greeting\n",
        "  user_greeting=['hi','hey','hello','hola','greetings']\n",
        "\n",
        "\n",
        "  for word in text.split():\n",
        "   if word in user_greeting:\n",
        "     return random.choice(bot_greeting)"
      ],
      "metadata": {
        "id": "MSyqnXXYvzh1"
      },
      "execution_count": 7,
      "outputs": []
    },
    {
      "cell_type": "code",
      "source": [
        "def index_sort(list_var):\n",
        "  length = len(list_var)\n",
        "  list_index=list(range(0, length))\n",
        "\n",
        "  x = list_var\n",
        "  for i in range(length):\n",
        "    for j in range(length):\n",
        "      if x[list_index[i]] > x[list_index[j]]:\n",
        "         #swap\n",
        "         temp = list_index[i]\n",
        "         list_index[i] = list_index[j]\n",
        "         list_index[j]= temp\n",
        "\n",
        "      return list_index"
      ],
      "metadata": {
        "id": "LvOEo30i0vro"
      },
      "execution_count": 8,
      "outputs": []
    },
    {
      "cell_type": "code",
      "source": [
        "#Create the bots response\n",
        "\n",
        "def bot_response(user_input):\n",
        " user_input =user_input.lower()\n",
        " sentence_list.append(user_input)\n",
        " bot_response = ''\n",
        " cm = CountVectorizer().fit_transform(sentence_list) \n",
        " similarity_scores =cosine_similarity (cm[-1], cm)\n",
        " similarity_scores_list = similarity_scores.flatten()\n",
        " index = index_sort (similarity_scores_list)\n",
        " index=index[1:]\n",
        " response_flag = 0\n",
        "\n",
        " j = 0\n",
        " for i in range(len(index)):\n",
        "   if similarity_scores_list[index[i]] > 0.0:\n",
        "      bot_response = bot_response+' '+sentence_list[index[i]]\n",
        "      response_flag = 1\n",
        "      j = j+1\n",
        "   if j> 2:\n",
        "      break\n",
        "\n",
        " if response_flag == 0:\n",
        "   bot_response =bot_response+' '+\"I apologize, I don't understant.\"\n",
        "\n",
        " sentence_list.remove(user_input)  \n",
        "\n",
        "\n",
        " return bot_response\n"
      ],
      "metadata": {
        "id": "Dd4h0WWtzB7V"
      },
      "execution_count": 9,
      "outputs": []
    },
    {
      "cell_type": "code",
      "source": [
        "#Start the chat\n",
        "print('Doc Bot: I am Doctor Bot or Doc Bot for short. I will answer your queries about coronavirus disease.if you want exit ,type bye')\n",
        "exit_list=['exit','bye','quit','break','see you later']\n",
        "while(True):\n",
        "  user_input = input()\n",
        "  if user_input. lower() in exit_list:\n",
        "    print('Doc Bot: Chat with you later !') \n",
        "    break\n",
        "  else:\n",
        "    if greeting_response(user_input) != None:\n",
        "      print('Doc Bot: '+greeting_response(user_input))\n",
        "    else:\n",
        "      print('Doc Bot: '+bot_response(user_input))"
      ],
      "metadata": {
        "colab": {
          "base_uri": "https://localhost:8080/"
        },
        "id": "PyQ4jtWb99eS",
        "outputId": "8b8bdda1-c94f-42a9-83b6-388da5f66980"
      },
      "execution_count": 10,
      "outputs": [
        {
          "output_type": "stream",
          "name": "stdout",
          "text": [
            "Doc Bot: I am Doctor Bot or Doc Bot for short. I will answer your queries about coronavirus disease.if you want exit ,type bye\n",
            "hi\n",
            "Doc Bot: hi\n",
            "what is Coronavirus disease \n",
            "Doc Bot:  In 2019, a new coronavirus was identified as the cause of a disease outbreak that originated in China. The virus is known as severe acute respiratory syndrome coronavirus 2 (SARS-CoV-2). The disease it causes is called coronavirus disease 2019 (COVID-19).\n",
            "00\n",
            "Doc Bot:  00\n",
            "0\n",
            "Doc Bot:  I apologize, I don't understant.\n",
            "exit\n",
            "Doc Bot: Chat with you later !\n"
          ]
        }
      ]
    },
    {
      "cell_type": "code",
      "source": [],
      "metadata": {
        "id": "N0Y0sfpGUZtL"
      },
      "execution_count": 10,
      "outputs": []
    },
    {
      "cell_type": "code",
      "source": [],
      "metadata": {
        "id": "DX1XPb4-JaiA"
      },
      "execution_count": 10,
      "outputs": []
    }
  ]
}